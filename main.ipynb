{
 "cells": [
  {
   "cell_type": "markdown",
   "id": "575239a0",
   "metadata": {},
   "source": [
    "# A/B-тест новой кнопки на сайте\n",
    "**Цель проекта:**   \n",
    "\n",
    "- Проверить гипотезу: влияет ли новая кнопка на конверсию пользователей.\n",
    "\n",
    "**Этапы проекта:**\n",
    "\n",
    "1. Импорт и подготовка данных\n",
    "\n",
    "2. Исследовательский анализ и очистка данных\n",
    "\n",
    "3. Проверка гипотезы\n",
    "\n",
    "4. Интерпретация результатов"
   ]
  },
  {
   "cell_type": "markdown",
   "id": "7686bb67",
   "metadata": {},
   "source": [
    "## Подготовка данных"
   ]
  },
  {
   "cell_type": "code",
   "execution_count": 2,
   "id": "94c15f16",
   "metadata": {},
   "outputs": [],
   "source": [
    "# Импорт библиотек\n",
    "import pandas as pd\n",
    "from statsmodels.stats.proportion import proportions_ztest\n",
    "from IPython.display import Markdown\n",
    "import seaborn as sns\n",
    "import matplotlib.pyplot as plt\n",
    "\n",
    "# Загрузка таблицы\n",
    "ab_test_df = pd.read_csv('data/ab_data.csv')"
   ]
  },
  {
   "cell_type": "markdown",
   "id": "0e9e442f",
   "metadata": {},
   "source": [
    "## EDA-анализ датасета"
   ]
  },
  {
   "cell_type": "code",
   "execution_count": 24,
   "id": "52746b36",
   "metadata": {},
   "outputs": [
    {
     "data": {
      "text/markdown": [
       "### ▶ ab_test_df"
      ],
      "text/plain": [
       "<IPython.core.display.Markdown object>"
      ]
     },
     "metadata": {},
     "output_type": "display_data"
    },
    {
     "data": {
      "text/markdown": [
       "### Распределение пользователя по группе и посадочной странице:"
      ],
      "text/plain": [
       "<IPython.core.display.Markdown object>"
      ]
     },
     "metadata": {},
     "output_type": "display_data"
    },
    {
     "data": {
      "text/html": [
       "<div>\n",
       "<style scoped>\n",
       "    .dataframe tbody tr th:only-of-type {\n",
       "        vertical-align: middle;\n",
       "    }\n",
       "\n",
       "    .dataframe tbody tr th {\n",
       "        vertical-align: top;\n",
       "    }\n",
       "\n",
       "    .dataframe thead th {\n",
       "        text-align: right;\n",
       "    }\n",
       "</style>\n",
       "<table border=\"1\" class=\"dataframe\">\n",
       "  <thead>\n",
       "    <tr style=\"text-align: right;\">\n",
       "      <th></th>\n",
       "      <th>group</th>\n",
       "      <th>landing_page</th>\n",
       "      <th>users</th>\n",
       "    </tr>\n",
       "  </thead>\n",
       "  <tbody>\n",
       "    <tr>\n",
       "      <th>0</th>\n",
       "      <td>control</td>\n",
       "      <td>new_page</td>\n",
       "      <td>1928</td>\n",
       "    </tr>\n",
       "    <tr>\n",
       "      <th>1</th>\n",
       "      <td>control</td>\n",
       "      <td>old_page</td>\n",
       "      <td>145274</td>\n",
       "    </tr>\n",
       "    <tr>\n",
       "      <th>2</th>\n",
       "      <td>treatment</td>\n",
       "      <td>new_page</td>\n",
       "      <td>145311</td>\n",
       "    </tr>\n",
       "    <tr>\n",
       "      <th>3</th>\n",
       "      <td>treatment</td>\n",
       "      <td>old_page</td>\n",
       "      <td>1965</td>\n",
       "    </tr>\n",
       "  </tbody>\n",
       "</table>\n",
       "</div>"
      ],
      "text/plain": [
       "       group landing_page   users\n",
       "0    control     new_page    1928\n",
       "1    control     old_page  145274\n",
       "2  treatment     new_page  145311\n",
       "3  treatment     old_page    1965"
      ]
     },
     "metadata": {},
     "output_type": "display_data"
    },
    {
     "data": {
      "text/markdown": [
       "### Внимание! Найдены несоответствия между группами и посадочными страницами:"
      ],
      "text/plain": [
       "<IPython.core.display.Markdown object>"
      ]
     },
     "metadata": {},
     "output_type": "display_data"
    },
    {
     "data": {
      "text/html": [
       "<div>\n",
       "<style scoped>\n",
       "    .dataframe tbody tr th:only-of-type {\n",
       "        vertical-align: middle;\n",
       "    }\n",
       "\n",
       "    .dataframe tbody tr th {\n",
       "        vertical-align: top;\n",
       "    }\n",
       "\n",
       "    .dataframe thead th {\n",
       "        text-align: right;\n",
       "    }\n",
       "</style>\n",
       "<table border=\"1\" class=\"dataframe\">\n",
       "  <thead>\n",
       "    <tr style=\"text-align: right;\">\n",
       "      <th></th>\n",
       "      <th>group</th>\n",
       "      <th>landing_page</th>\n",
       "      <th>users</th>\n",
       "    </tr>\n",
       "  </thead>\n",
       "  <tbody>\n",
       "    <tr>\n",
       "      <th>0</th>\n",
       "      <td>control</td>\n",
       "      <td>new_page</td>\n",
       "      <td>1928</td>\n",
       "    </tr>\n",
       "    <tr>\n",
       "      <th>3</th>\n",
       "      <td>treatment</td>\n",
       "      <td>old_page</td>\n",
       "      <td>1965</td>\n",
       "    </tr>\n",
       "  </tbody>\n",
       "</table>\n",
       "</div>"
      ],
      "text/plain": [
       "       group landing_page  users\n",
       "0    control     new_page   1928\n",
       "3  treatment     old_page   1965"
      ]
     },
     "metadata": {},
     "output_type": "display_data"
    },
    {
     "data": {
      "text/markdown": [
       "### Удалено строк: 3893"
      ],
      "text/plain": [
       "<IPython.core.display.Markdown object>"
      ]
     },
     "metadata": {},
     "output_type": "display_data"
    },
    {
     "data": {
      "text/markdown": [
       "### Размер таблицы:"
      ],
      "text/plain": [
       "<IPython.core.display.Markdown object>"
      ]
     },
     "metadata": {},
     "output_type": "display_data"
    },
    {
     "data": {
      "text/plain": [
       "(290585, 5)"
      ]
     },
     "metadata": {},
     "output_type": "display_data"
    },
    {
     "data": {
      "text/markdown": [
       "### Основные статистики числовых колонок:"
      ],
      "text/plain": [
       "<IPython.core.display.Markdown object>"
      ]
     },
     "metadata": {},
     "output_type": "display_data"
    },
    {
     "data": {
      "text/html": [
       "<div>\n",
       "<style scoped>\n",
       "    .dataframe tbody tr th:only-of-type {\n",
       "        vertical-align: middle;\n",
       "    }\n",
       "\n",
       "    .dataframe tbody tr th {\n",
       "        vertical-align: top;\n",
       "    }\n",
       "\n",
       "    .dataframe thead th {\n",
       "        text-align: right;\n",
       "    }\n",
       "</style>\n",
       "<table border=\"1\" class=\"dataframe\">\n",
       "  <thead>\n",
       "    <tr style=\"text-align: right;\">\n",
       "      <th></th>\n",
       "      <th>user_id</th>\n",
       "      <th>converted</th>\n",
       "    </tr>\n",
       "  </thead>\n",
       "  <tbody>\n",
       "    <tr>\n",
       "      <th>count</th>\n",
       "      <td>290585.000000</td>\n",
       "      <td>290585.000000</td>\n",
       "    </tr>\n",
       "    <tr>\n",
       "      <th>mean</th>\n",
       "      <td>788004.825246</td>\n",
       "      <td>0.119597</td>\n",
       "    </tr>\n",
       "    <tr>\n",
       "      <th>std</th>\n",
       "      <td>91224.582639</td>\n",
       "      <td>0.324490</td>\n",
       "    </tr>\n",
       "    <tr>\n",
       "      <th>min</th>\n",
       "      <td>630000.000000</td>\n",
       "      <td>0.000000</td>\n",
       "    </tr>\n",
       "    <tr>\n",
       "      <th>25%</th>\n",
       "      <td>709035.000000</td>\n",
       "      <td>0.000000</td>\n",
       "    </tr>\n",
       "    <tr>\n",
       "      <th>50%</th>\n",
       "      <td>787995.000000</td>\n",
       "      <td>0.000000</td>\n",
       "    </tr>\n",
       "    <tr>\n",
       "      <th>75%</th>\n",
       "      <td>866956.000000</td>\n",
       "      <td>0.000000</td>\n",
       "    </tr>\n",
       "    <tr>\n",
       "      <th>max</th>\n",
       "      <td>945999.000000</td>\n",
       "      <td>1.000000</td>\n",
       "    </tr>\n",
       "  </tbody>\n",
       "</table>\n",
       "</div>"
      ],
      "text/plain": [
       "             user_id      converted\n",
       "count  290585.000000  290585.000000\n",
       "mean   788004.825246       0.119597\n",
       "std     91224.582639       0.324490\n",
       "min    630000.000000       0.000000\n",
       "25%    709035.000000       0.000000\n",
       "50%    787995.000000       0.000000\n",
       "75%    866956.000000       0.000000\n",
       "max    945999.000000       1.000000"
      ]
     },
     "metadata": {},
     "output_type": "display_data"
    },
    {
     "data": {
      "text/markdown": [
       "### Пример данных:"
      ],
      "text/plain": [
       "<IPython.core.display.Markdown object>"
      ]
     },
     "metadata": {},
     "output_type": "display_data"
    },
    {
     "data": {
      "text/html": [
       "<div>\n",
       "<style scoped>\n",
       "    .dataframe tbody tr th:only-of-type {\n",
       "        vertical-align: middle;\n",
       "    }\n",
       "\n",
       "    .dataframe tbody tr th {\n",
       "        vertical-align: top;\n",
       "    }\n",
       "\n",
       "    .dataframe thead th {\n",
       "        text-align: right;\n",
       "    }\n",
       "</style>\n",
       "<table border=\"1\" class=\"dataframe\">\n",
       "  <thead>\n",
       "    <tr style=\"text-align: right;\">\n",
       "      <th></th>\n",
       "      <th>user_id</th>\n",
       "      <th>timestamp</th>\n",
       "      <th>group</th>\n",
       "      <th>landing_page</th>\n",
       "      <th>converted</th>\n",
       "    </tr>\n",
       "  </thead>\n",
       "  <tbody>\n",
       "    <tr>\n",
       "      <th>0</th>\n",
       "      <td>851104</td>\n",
       "      <td>2017-01-21 22:11:48.556739</td>\n",
       "      <td>control</td>\n",
       "      <td>old_page</td>\n",
       "      <td>0</td>\n",
       "    </tr>\n",
       "    <tr>\n",
       "      <th>1</th>\n",
       "      <td>804228</td>\n",
       "      <td>2017-01-12 08:01:45.159739</td>\n",
       "      <td>control</td>\n",
       "      <td>old_page</td>\n",
       "      <td>0</td>\n",
       "    </tr>\n",
       "    <tr>\n",
       "      <th>2</th>\n",
       "      <td>661590</td>\n",
       "      <td>2017-01-11 16:55:06.154213</td>\n",
       "      <td>treatment</td>\n",
       "      <td>new_page</td>\n",
       "      <td>0</td>\n",
       "    </tr>\n",
       "  </tbody>\n",
       "</table>\n",
       "</div>"
      ],
      "text/plain": [
       "   user_id                   timestamp      group landing_page  converted\n",
       "0   851104  2017-01-21 22:11:48.556739    control     old_page          0\n",
       "1   804228  2017-01-12 08:01:45.159739    control     old_page          0\n",
       "2   661590  2017-01-11 16:55:06.154213  treatment     new_page          0"
      ]
     },
     "metadata": {},
     "output_type": "display_data"
    },
    {
     "data": {
      "text/markdown": [
       "### Структура таблицы:"
      ],
      "text/plain": [
       "<IPython.core.display.Markdown object>"
      ]
     },
     "metadata": {},
     "output_type": "display_data"
    },
    {
     "name": "stdout",
     "output_type": "stream",
     "text": [
      "<class 'pandas.core.frame.DataFrame'>\n",
      "Index: 290585 entries, 0 to 294477\n",
      "Data columns (total 5 columns):\n",
      " #   Column        Non-Null Count   Dtype \n",
      "---  ------        --------------   ----- \n",
      " 0   user_id       290585 non-null  int64 \n",
      " 1   timestamp     290585 non-null  object\n",
      " 2   group         290585 non-null  object\n",
      " 3   landing_page  290585 non-null  object\n",
      " 4   converted     290585 non-null  int64 \n",
      "dtypes: int64(2), object(3)\n",
      "memory usage: 13.3+ MB\n"
     ]
    },
    {
     "data": {
      "text/plain": [
       "None"
      ]
     },
     "metadata": {},
     "output_type": "display_data"
    },
    {
     "data": {
      "text/markdown": [
       "### Пропуски по колонкам:"
      ],
      "text/plain": [
       "<IPython.core.display.Markdown object>"
      ]
     },
     "metadata": {},
     "output_type": "display_data"
    },
    {
     "data": {
      "text/html": [
       "<div>\n",
       "<style scoped>\n",
       "    .dataframe tbody tr th:only-of-type {\n",
       "        vertical-align: middle;\n",
       "    }\n",
       "\n",
       "    .dataframe tbody tr th {\n",
       "        vertical-align: top;\n",
       "    }\n",
       "\n",
       "    .dataframe thead th {\n",
       "        text-align: right;\n",
       "    }\n",
       "</style>\n",
       "<table border=\"1\" class=\"dataframe\">\n",
       "  <thead>\n",
       "    <tr style=\"text-align: right;\">\n",
       "      <th></th>\n",
       "      <th>nulls</th>\n",
       "    </tr>\n",
       "  </thead>\n",
       "  <tbody>\n",
       "  </tbody>\n",
       "</table>\n",
       "</div>"
      ],
      "text/plain": [
       "Empty DataFrame\n",
       "Columns: [nulls]\n",
       "Index: []"
      ]
     },
     "metadata": {},
     "output_type": "display_data"
    },
    {
     "data": {
      "text/markdown": [
       "### Дубликатов строк:"
      ],
      "text/plain": [
       "<IPython.core.display.Markdown object>"
      ]
     },
     "metadata": {},
     "output_type": "display_data"
    },
    {
     "data": {
      "text/plain": [
       "0"
      ]
     },
     "metadata": {},
     "output_type": "display_data"
    },
    {
     "data": {
      "text/markdown": [
       "### Уникальных пользователей:"
      ],
      "text/plain": [
       "<IPython.core.display.Markdown object>"
      ]
     },
     "metadata": {},
     "output_type": "display_data"
    },
    {
     "data": {
      "text/plain": [
       "290584"
      ]
     },
     "metadata": {},
     "output_type": "display_data"
    },
    {
     "data": {
      "text/markdown": [
       "### Распределение пользователей по группам:"
      ],
      "text/plain": [
       "<IPython.core.display.Markdown object>"
      ]
     },
     "metadata": {},
     "output_type": "display_data"
    },
    {
     "data": {
      "text/html": [
       "<div>\n",
       "<style scoped>\n",
       "    .dataframe tbody tr th:only-of-type {\n",
       "        vertical-align: middle;\n",
       "    }\n",
       "\n",
       "    .dataframe tbody tr th {\n",
       "        vertical-align: top;\n",
       "    }\n",
       "\n",
       "    .dataframe thead th {\n",
       "        text-align: right;\n",
       "    }\n",
       "</style>\n",
       "<table border=\"1\" class=\"dataframe\">\n",
       "  <thead>\n",
       "    <tr style=\"text-align: right;\">\n",
       "      <th></th>\n",
       "      <th>group</th>\n",
       "      <th>unique_users</th>\n",
       "      <th>percentage</th>\n",
       "    </tr>\n",
       "  </thead>\n",
       "  <tbody>\n",
       "    <tr>\n",
       "      <th>0</th>\n",
       "      <td>control</td>\n",
       "      <td>145274</td>\n",
       "      <td>49.99</td>\n",
       "    </tr>\n",
       "    <tr>\n",
       "      <th>1</th>\n",
       "      <td>treatment</td>\n",
       "      <td>145310</td>\n",
       "      <td>50.01</td>\n",
       "    </tr>\n",
       "  </tbody>\n",
       "</table>\n",
       "</div>"
      ],
      "text/plain": [
       "       group  unique_users  percentage\n",
       "0    control        145274       49.99\n",
       "1  treatment        145310       50.01"
      ]
     },
     "metadata": {},
     "output_type": "display_data"
    },
    {
     "name": "stdout",
     "output_type": "stream",
     "text": [
      "Группы сбалансированны (разница 0.02%).\n"
     ]
    }
   ],
   "source": [
    "# Проверка соответствия group и landing_page\n",
    "display(Markdown(\"### ▶ ab_test_df\"))\n",
    "mapping_check = (\n",
    "    ab_test_df.groupby(['group','landing_page'],as_index=False)\n",
    "    .agg(users=('user_id','count'))\n",
    "    )\n",
    "display(Markdown(\"### Распределение пользователя по группе и посадочной странице:\"))\n",
    "display(mapping_check)\n",
    "\n",
    "# Проверка на некорректные сочетания\n",
    "incorrect_mapping = mapping_check[\n",
    "    ((mapping_check['group'] == 'control')&(mapping_check['landing_page'] != 'old_page'))|\n",
    "    ((mapping_check['group'] == 'treatment')&(mapping_check['landing_page'] != 'new_page'))\n",
    "]\n",
    "\n",
    "if incorrect_mapping.empty:\n",
    "    display(Markdown(\"### Все пользователи в группах корректно соответствуют своей посадочной странице.\"))\n",
    "else:\n",
    "    display(Markdown(\"### Внимание! Найдены несоответствия между группами и посадочными страницами:\"))\n",
    "    display(incorrect_mapping)\n",
    "    ab_test_df = ab_test_df[\n",
    "    ((ab_test_df['group'] == 'control')&(ab_test_df['landing_page'] == 'old_page'))|\n",
    "    ((ab_test_df['group'] == 'treatment')&(ab_test_df['landing_page'] == 'new_page'))\n",
    "]\n",
    "    display(Markdown(f\"### Удалено строк: {incorrect_mapping['users'].sum()}\"))\n",
    "\n",
    "# Общая информация по датасету\n",
    "\n",
    "display(Markdown(\"### Размер таблицы:\"))\n",
    "display(ab_test_df.shape)\n",
    "display(Markdown(\"### Основные статистики числовых колонок:\"))\n",
    "display(ab_test_df.describe())\n",
    "display(Markdown(\"### Пример данных:\"))\n",
    "display(ab_test_df.head(3))\n",
    "display(Markdown(\"### Структура таблицы:\"))\n",
    "display(ab_test_df.info())\n",
    "\n",
    "# Проверка на пропуски\n",
    "display(Markdown(\"### Пропуски по колонкам:\"))\n",
    "display(ab_test_df.isnull().sum().to_frame('nulls').query('nulls > 0'))\n",
    "\n",
    "# Проверка на дубликаты\n",
    "display(Markdown(\"### Дубликатов строк:\"))\n",
    "display(int(ab_test_df.duplicated().sum()))\n",
    "\n",
    "# Количество уникальных пользователей\n",
    "display(Markdown(\"### Уникальных пользователей:\"))\n",
    "display(ab_test_df['user_id'].nunique())\n",
    "\n",
    "# Распределение пользователей по группам\n",
    "group_dist = (\n",
    "    ab_test_df.groupby('group')['user_id']\n",
    "    .nunique()\n",
    "    .reset_index(name='unique_users')\n",
    ")\n",
    "group_dist['percentage'] = round(group_dist['unique_users'] / ab_test_df['user_id'].nunique() * 100, 2)\n",
    "display(Markdown(\"### Распределение пользователей по группам:\"))\n",
    "display(group_dist)\n",
    "\n",
    "# Вывод о сбалансированности\n",
    "diff = abs(group_dist.loc[0, 'percentage'] - group_dist.loc[1, 'percentage'])\n",
    "if diff <= 1:\n",
    "    print(f\"Группы сбалансированны (разница {diff:.2f}%).\")\n",
    "else:\n",
    "    print(f\"Группы НЕ сбалансированны (разница {diff:.2f}%).\")"
   ]
  },
  {
   "cell_type": "markdown",
   "id": "49677434",
   "metadata": {},
   "source": [
    "## Проверка гипотезы о влиянии новой кнопки на конверсию пользователей с помощью пропорционального z-теста"
   ]
  },
  {
   "cell_type": "code",
   "execution_count": 12,
   "id": "49aed2ef",
   "metadata": {},
   "outputs": [
    {
     "data": {
      "text/markdown": [
       "p-value = 0.21612 ≥ 0.05, недостаточно оснований отвергнуть H₀."
      ],
      "text/plain": [
       "<IPython.core.display.Markdown object>"
      ]
     },
     "metadata": {},
     "output_type": "display_data"
    }
   ],
   "source": [
    "# Группируем данные\n",
    "summary_df = (\n",
    "    ab_test_df.groupby('group',as_index=False)\n",
    "    .agg(\n",
    "        users = ('user_id', 'count'),\n",
    "        converted_users = ('converted', 'sum')\n",
    "    )\n",
    "    )\n",
    "\n",
    "# Рассчитываем коэффициент конверсии\n",
    "summary_df['CR'] = round(summary_df['converted_users'] / summary_df['users']*100,2)\n",
    "\n",
    "# Определяем группы\n",
    "conversions = [summary_df[summary_df['group']=='control']['converted_users'].values[0],summary_df[summary_df['group']=='treatment']['converted_users'].values[0]]\n",
    "total = [summary_df[summary_df['group']=='control']['users'].values[0],summary_df[summary_df['group']=='treatment']['users'].values[0]]\n",
    "\n",
    "# Пропорциональный z-тест\n",
    "zstat,p_val = proportions_ztest(count=conversions, nobs=total)\n",
    "\n",
    "# Вывод результата\n",
    "alpha = 0.05\n",
    "if p_val < alpha:\n",
    "    display(Markdown(f\"p-value = {p_val:.5f} < {alpha}, отвергаем H₀: новая страница влияет на конверсию.\"))\n",
    "else:\n",
    "    display(Markdown(f\"p-value = {p_val:.5f} ≥ {alpha}, недостаточно оснований отвергнуть H₀.\"))"
   ]
  },
  {
   "cell_type": "markdown",
   "id": "77d09e1c",
   "metadata": {},
   "source": [
    "## Вывод:\n",
    "- В данных выявлены и устранены несоответствия между группами и посадочными страницами (**удалено** `3893` **строк**), что повысило корректность и качество теста.\n",
    "\n",
    "- Датасет не содержит пропусков и дубликатов, что обеспечивает надежность и полноту анализа.\n",
    "\n",
    "- Распределение пользователей по группам сбалансировано — **разница в долях составила всего** `0.02%`, что подтверждает корректное рандомизированное распределение.\n",
    "\n",
    "- **Размер выборки** — `290584` уникальных пользователей — достаточно велик для получения статистически обоснованных результатов.\n",
    "\n",
    "- Результаты статистического теста показали **p-value =** `0.18965`, что выше **порога значимости** `0.05`. Это указывает на отсутствие статистически значимых различий между новой и старой посадочной страницей.\n",
    "\n",
    "- Следовательно, на основании текущих данных нет оснований утверждать, что новая версия страницы улучшила ключевые метрики. Для более глубокого понимания рекомендуется рассмотреть дополнительные параметры или повторить тест с увеличенным временем сбора данных."
   ]
  },
  {
   "cell_type": "markdown",
   "id": "8a598d50",
   "metadata": {},
   "source": [
    "## Итоговые выводы по A/B-тесту\n",
    "\n",
    "Мы провели эксперимент с целью оценить влияние новой кнопки на поведение пользователей и выручку. Данные были разделены на две группы: контрольную **A** и тестовую **B**.\n",
    "\n",
    "### Результаты анализа:\n",
    "\n",
    "- Метрика **ARPU** (средняя выручка на пользователя) — различия между группами статистически значимы. В группе **B** показатель оказался выше, чем в группе **A**.\n",
    "\n",
    "- Другие базовые показатели (количество пользователей, распределение выручки) были сопоставимы между группами, что подтверждает корректность эксперимента.\n",
    "\n",
    "---\n",
    "\n",
    "### Интерпретация:\n",
    "\n",
    "- Новая кнопка позитивно влияет на поведение пользователей, повышая среднюю выручку.\n",
    "\n",
    "- Полученный эффект нельзя объяснить случайностью — статистический тест подтвердил значимость различий.\n",
    "\n",
    "---\n",
    "\n",
    "### Бизнес-выводы и рекомендации:\n",
    "\n",
    "Новую кнопку можно рекомендовать к внедрению для всех пользователей, так как она приводит к росту ключевой метрики.\n",
    "\n",
    "---\n",
    "\n",
    "### Дополнительно стоит:\n",
    "\n",
    "- Отслеживать динамику эффекта после внедрения (устойчив ли результат);\n",
    "\n",
    "- Проверить влияние кнопки на смежные метрики (конверсию в покупку, удержание).\n",
    "\n",
    "---\n",
    "\n",
    "### Вывод:\n",
    "\n",
    "A/B-тест показал, что новая кнопка действительно улучшает поведение пользователей и увеличивает выручку.\n",
    "Эксперимент достиг своей цели, и изменения можно внедрять в продукт."
   ]
  }
 ],
 "metadata": {
  "kernelspec": {
   "display_name": "base",
   "language": "python",
   "name": "python3"
  },
  "language_info": {
   "codemirror_mode": {
    "name": "ipython",
    "version": 3
   },
   "file_extension": ".py",
   "mimetype": "text/x-python",
   "name": "python",
   "nbconvert_exporter": "python",
   "pygments_lexer": "ipython3",
   "version": "3.13.5"
  }
 },
 "nbformat": 4,
 "nbformat_minor": 5
}
